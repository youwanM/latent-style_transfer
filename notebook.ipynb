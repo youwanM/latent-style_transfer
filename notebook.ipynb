{
 "cells": [
  {
   "cell_type": "code",
   "id": "97520526-ba5d-4e8e-aa44-22fcc4eaef9e",
   "metadata": {
    "jupyter": {
     "is_executing": true
    }
   },
   "source": [
    "import torch\n",
    "import torch.nn as nn\n",
    "from autoencoder.autoencoder import Autoencoder, Encoder, Decoder, VAETrainer, VAETester\n",
    "from utils.datasets import ImageDataset\n",
    "import pandas as pd"
   ],
   "outputs": [],
   "execution_count": null
  },
  {
   "cell_type": "code",
   "execution_count": 2,
   "id": "b677440e-ef63-4153-8708-68a8f3c8a9bf",
   "metadata": {},
   "outputs": [],
   "source": [
    "encoder = Encoder(z_channels=2,\n",
    "                  in_channels=1,\n",
    "                  channels=8,\n",
    "                  channel_multipliers=[1, 2, 2, 2],\n",
    "                  n_resnet_blocks=0)\n",
    "\n",
    "decoder = Decoder(out_channels=1,\n",
    "                  z_channels=2,\n",
    "                  channels=8,\n",
    "                  channel_multipliers=[1, 2, 2, 2],\n",
    "                  n_resnet_blocks=0)\n",
    "\n",
    "ae = Autoencoder(emb_channels=2,\n",
    "                          encoder=encoder,\n",
    "                          decoder=decoder,\n",
    "                          z_channels=2)"
   ]
  },
  {
   "cell_type": "code",
   "execution_count": 3,
   "id": "821ec40d-79f8-4bd9-96a0-56e5cec2a892",
   "metadata": {},
   "outputs": [],
   "source": [
    "class Config:\n",
    "    def __init__(self):\n",
    "        self.batch_size = 1\n",
    "        self.epochs = 10\n",
    "        self.lr = 1e-4\n",
    "        self.beta = 1e-3\n",
    "        self.model_save_dir = \"./vae\"\n",
    "        \n",
    "config = Config()     "
   ]
  },
  {
   "cell_type": "code",
   "execution_count": 4,
   "id": "d14e19cb-90dd-48b2-a6bd-ea4cdf77c658",
   "metadata": {
    "scrolled": true
   },
   "outputs": [],
   "source": [
    "trainer = VAETrainer(ae, config)"
   ]
  },
  {
   "cell_type": "code",
   "execution_count": 5,
   "id": "6867624d-aed0-47e8-87b8-2e9c8282fd32",
   "metadata": {},
   "outputs": [
    {
     "name": "stdout",
     "output_type": "stream",
     "text": [
      "Dataset <utils.datasets.ImageDataset object at 0x7ff459d73b90>: \n",
      " 581 images.\n"
     ]
    }
   ],
   "source": [
    "data_dir = './data'\n",
    "mode = 'train'\n",
    "dataset = 'IXI-T1'\n",
    "\n",
    "# Data loader. \n",
    "dataset_file = f'{data_dir}/{mode}-{dataset}.csv'\n",
    "data_df = pd.read_csv(dataset_file)\n",
    "data_flist = data_df['filepath'].tolist()\n",
    "\n",
    "dataset = ImageDataset(\n",
    "    data_flist\n",
    ")\n",
    "\n",
    "print(f'Dataset {dataset}: \\n {len(dataset.data)} images.')"
   ]
  },
  {
   "cell_type": "code",
   "execution_count": 6,
   "id": "e3a4be7b-ac2e-4640-b17c-f672d69e542b",
   "metadata": {},
   "outputs": [
    {
     "name": "stdout",
     "output_type": "stream",
     "text": [
      "---- Start training ----\n",
      "\tEpoch 1 \tAverage Loss:  464167.41009326803\n",
      "\tEpoch 2 \tAverage Loss:  459152.3462202401\n"
     ]
    },
    {
     "name": "stderr",
     "output_type": "stream",
     "text": [
      "/home/ymahe/Desktop/latent-style_transfer/autoencoder/autoencoder.py:635: SyntaxWarning: invalid escape sequence '\\c'\n",
      "  \"\"\"\n"
     ]
    },
    {
     "ename": "RuntimeError",
     "evalue": "Parent directory ./vae does not exist.",
     "output_type": "error",
     "traceback": [
      "\u001B[0;31m---------------------------------------------------------------------------\u001B[0m",
      "\u001B[0;31mRuntimeError\u001B[0m                              Traceback (most recent call last)",
      "Cell \u001B[0;32mIn[6], line 1\u001B[0m\n\u001B[0;32m----> 1\u001B[0m \u001B[43mtrainer\u001B[49m\u001B[38;5;241;43m.\u001B[39;49m\u001B[43mtrain\u001B[49m\u001B[43m(\u001B[49m\u001B[43mdataset\u001B[49m\u001B[43m)\u001B[49m\n",
      "File \u001B[0;32m~/Desktop/latent-style_transfer/autoencoder/autoencoder.py:203\u001B[0m, in \u001B[0;36mVAETrainer.train\u001B[0;34m(self, dataset)\u001B[0m\n\u001B[1;32m    199\u001B[0m             torch\u001B[38;5;241m.\u001B[39msave(\u001B[38;5;28mself\u001B[39m\u001B[38;5;241m.\u001B[39mmodel\u001B[38;5;241m.\u001B[39mmodule\u001B[38;5;241m.\u001B[39mstate_dict(), \n\u001B[1;32m    200\u001B[0m                 \u001B[38;5;28mself\u001B[39m\u001B[38;5;241m.\u001B[39mmodel_save_dir \u001B[38;5;241m+\u001B[39m \n\u001B[1;32m    201\u001B[0m                 \u001B[38;5;124mf\u001B[39m\u001B[38;5;124m\"\u001B[39m\u001B[38;5;124m/model_\u001B[39m\u001B[38;5;132;01m{\u001B[39;00mepoch\u001B[38;5;132;01m}\u001B[39;00m\u001B[38;5;124m.pth\u001B[39m\u001B[38;5;124m\"\u001B[39m)\n\u001B[1;32m    202\u001B[0m         \u001B[38;5;28;01melse\u001B[39;00m:\n\u001B[0;32m--> 203\u001B[0m             \u001B[43mtorch\u001B[49m\u001B[38;5;241;43m.\u001B[39;49m\u001B[43msave\u001B[49m\u001B[43m(\u001B[49m\u001B[38;5;28;43mself\u001B[39;49m\u001B[38;5;241;43m.\u001B[39;49m\u001B[43mmodel\u001B[49m\u001B[38;5;241;43m.\u001B[39;49m\u001B[43mstate_dict\u001B[49m\u001B[43m(\u001B[49m\u001B[43m)\u001B[49m\u001B[43m,\u001B[49m\u001B[43m \u001B[49m\n\u001B[1;32m    204\u001B[0m \u001B[43m                \u001B[49m\u001B[38;5;28;43mself\u001B[39;49m\u001B[38;5;241;43m.\u001B[39;49m\u001B[43mmodel_save_dir\u001B[49m\u001B[43m \u001B[49m\u001B[38;5;241;43m+\u001B[39;49m\u001B[43m \u001B[49m\n\u001B[1;32m    205\u001B[0m \u001B[43m                \u001B[49m\u001B[38;5;124;43mf\u001B[39;49m\u001B[38;5;124;43m\"\u001B[39;49m\u001B[38;5;124;43m/model_\u001B[39;49m\u001B[38;5;132;43;01m{\u001B[39;49;00m\u001B[43mepoch\u001B[49m\u001B[38;5;132;43;01m}\u001B[39;49;00m\u001B[38;5;124;43m.pth\u001B[39;49m\u001B[38;5;124;43m\"\u001B[39;49m\u001B[43m)\u001B[49m\n\u001B[1;32m    206\u001B[0m         \u001B[38;5;28mself\u001B[39m\u001B[38;5;241m.\u001B[39msample(x, epoch)\n\u001B[1;32m    208\u001B[0m \u001B[38;5;28;01mreturn\u001B[39;00m overall_loss\n",
      "File \u001B[0;32m~/.local/lib/python3.12/site-packages/torch/serialization.py:849\u001B[0m, in \u001B[0;36msave\u001B[0;34m(obj, f, pickle_module, pickle_protocol, _use_new_zipfile_serialization, _disable_byteorder_record)\u001B[0m\n\u001B[1;32m    846\u001B[0m _check_save_filelike(f)\n\u001B[1;32m    848\u001B[0m \u001B[38;5;28;01mif\u001B[39;00m _use_new_zipfile_serialization:\n\u001B[0;32m--> 849\u001B[0m     \u001B[38;5;28;01mwith\u001B[39;00m \u001B[43m_open_zipfile_writer\u001B[49m\u001B[43m(\u001B[49m\u001B[43mf\u001B[49m\u001B[43m)\u001B[49m \u001B[38;5;28;01mas\u001B[39;00m opened_zipfile:\n\u001B[1;32m    850\u001B[0m         _save(\n\u001B[1;32m    851\u001B[0m             obj,\n\u001B[1;32m    852\u001B[0m             opened_zipfile,\n\u001B[0;32m   (...)\u001B[0m\n\u001B[1;32m    855\u001B[0m             _disable_byteorder_record,\n\u001B[1;32m    856\u001B[0m         )\n\u001B[1;32m    857\u001B[0m         \u001B[38;5;28;01mreturn\u001B[39;00m\n",
      "File \u001B[0;32m~/.local/lib/python3.12/site-packages/torch/serialization.py:716\u001B[0m, in \u001B[0;36m_open_zipfile_writer\u001B[0;34m(name_or_buffer)\u001B[0m\n\u001B[1;32m    714\u001B[0m \u001B[38;5;28;01melse\u001B[39;00m:\n\u001B[1;32m    715\u001B[0m     container \u001B[38;5;241m=\u001B[39m _open_zipfile_writer_buffer\n\u001B[0;32m--> 716\u001B[0m \u001B[38;5;28;01mreturn\u001B[39;00m \u001B[43mcontainer\u001B[49m\u001B[43m(\u001B[49m\u001B[43mname_or_buffer\u001B[49m\u001B[43m)\u001B[49m\n",
      "File \u001B[0;32m~/.local/lib/python3.12/site-packages/torch/serialization.py:687\u001B[0m, in \u001B[0;36m_open_zipfile_writer_file.__init__\u001B[0;34m(self, name)\u001B[0m\n\u001B[1;32m    685\u001B[0m     \u001B[38;5;28msuper\u001B[39m()\u001B[38;5;241m.\u001B[39m\u001B[38;5;21m__init__\u001B[39m(torch\u001B[38;5;241m.\u001B[39m_C\u001B[38;5;241m.\u001B[39mPyTorchFileWriter(\u001B[38;5;28mself\u001B[39m\u001B[38;5;241m.\u001B[39mfile_stream))\n\u001B[1;32m    686\u001B[0m \u001B[38;5;28;01melse\u001B[39;00m:\n\u001B[0;32m--> 687\u001B[0m     \u001B[38;5;28msuper\u001B[39m()\u001B[38;5;241m.\u001B[39m\u001B[38;5;21m__init__\u001B[39m(\u001B[43mtorch\u001B[49m\u001B[38;5;241;43m.\u001B[39;49m\u001B[43m_C\u001B[49m\u001B[38;5;241;43m.\u001B[39;49m\u001B[43mPyTorchFileWriter\u001B[49m\u001B[43m(\u001B[49m\u001B[38;5;28;43mself\u001B[39;49m\u001B[38;5;241;43m.\u001B[39;49m\u001B[43mname\u001B[49m\u001B[43m)\u001B[49m)\n",
      "\u001B[0;31mRuntimeError\u001B[0m: Parent directory ./vae does not exist."
     ]
    }
   ],
   "source": [
    "trainer.train(dataset)"
   ]
  },
  {
   "cell_type": "code",
   "id": "b5c8cccf-7202-4b85-9d47-78726771ccf0",
   "metadata": {
    "jupyter": {
     "is_executing": true
    }
   },
   "source": [
    "import unet "
   ],
   "outputs": [],
   "execution_count": null
  },
  {
   "cell_type": "code",
   "execution_count": null,
   "id": "a45d275d-223c-423e-ac2a-54d09d99c929",
   "metadata": {},
   "outputs": [],
   "source": [
    "model = unet.UNetModel(in_channels=4,\n",
    "               out_channels=4,\n",
    "               channels=320,\n",
    "               attention_levels=[0, 1, 2],\n",
    "               n_res_blocks=2,\n",
    "               channel_multipliers=[1, 2, 4, 4],\n",
    "               n_heads=8,\n",
    "               tf_layers=1,\n",
    "               d_cond=4096)"
   ]
  },
  {
   "cell_type": "code",
   "execution_count": null,
   "id": "194178b9-7620-4ea5-b276-9ef65f4c75c3",
   "metadata": {},
   "outputs": [],
   "source": [
    "import torch\n",
    "x = torch.randn(1,4,8,8,8)\n",
    "cond = torch.randn(1,1,4096)"
   ]
  },
  {
   "cell_type": "code",
   "execution_count": null,
   "id": "9cf78fb6-819d-46c1-80c7-df8d3d9769a9",
   "metadata": {},
   "outputs": [],
   "source": [
    "model(x, torch.tensor([500]), cond).shape"
   ]
  },
  {
   "cell_type": "code",
   "execution_count": null,
   "id": "df380ef3-0b74-427d-b214-7e07a6088eeb",
   "metadata": {},
   "outputs": [],
   "source": []
  }
 ],
 "metadata": {
  "kernelspec": {
   "display_name": "Python 3 (ipykernel)",
   "language": "python",
   "name": "python3"
  },
  "language_info": {
   "codemirror_mode": {
    "name": "ipython",
    "version": 3
   },
   "file_extension": ".py",
   "mimetype": "text/x-python",
   "name": "python",
   "nbconvert_exporter": "python",
   "pygments_lexer": "ipython3",
   "version": "3.12.8"
  }
 },
 "nbformat": 4,
 "nbformat_minor": 5
}
